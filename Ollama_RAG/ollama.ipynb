{
 "cells": [
  {
   "cell_type": "code",
   "execution_count": 1,
   "id": "7c2dbdb4",
   "metadata": {},
   "outputs": [
    {
     "name": "stdout",
     "output_type": "stream",
     "text": [
      "Requirement already satisfied: langchain in c:\\users\\meesalamryeswanthkum\\anaconda3\\lib\\site-packages (0.1.20)\n",
      "Requirement already satisfied: PyYAML>=5.3 in c:\\users\\meesalamryeswanthkum\\anaconda3\\lib\\site-packages (from langchain) (6.0.1)\n",
      "Requirement already satisfied: SQLAlchemy<3,>=1.4 in c:\\users\\meesalamryeswanthkum\\anaconda3\\lib\\site-packages (from langchain) (2.0.34)\n",
      "Requirement already satisfied: aiohttp<4.0.0,>=3.8.3 in c:\\users\\meesalamryeswanthkum\\anaconda3\\lib\\site-packages (from langchain) (3.10.5)\n",
      "Requirement already satisfied: dataclasses-json<0.7,>=0.5.7 in c:\\users\\meesalamryeswanthkum\\anaconda3\\lib\\site-packages (from langchain) (0.6.7)\n",
      "Requirement already satisfied: langchain-community<0.1,>=0.0.38 in c:\\users\\meesalamryeswanthkum\\anaconda3\\lib\\site-packages (from langchain) (0.0.38)\n",
      "Requirement already satisfied: langchain-core<0.2.0,>=0.1.52 in c:\\users\\meesalamryeswanthkum\\anaconda3\\lib\\site-packages (from langchain) (0.1.53)\n",
      "Requirement already satisfied: langchain-text-splitters<0.1,>=0.0.1 in c:\\users\\meesalamryeswanthkum\\anaconda3\\lib\\site-packages (from langchain) (0.0.2)\n",
      "Requirement already satisfied: langsmith<0.2.0,>=0.1.17 in c:\\users\\meesalamryeswanthkum\\anaconda3\\lib\\site-packages (from langchain) (0.1.147)\n",
      "Requirement already satisfied: numpy<2,>=1 in c:\\users\\meesalamryeswanthkum\\anaconda3\\lib\\site-packages (from langchain) (1.26.4)\n",
      "Requirement already satisfied: pydantic<3,>=1 in c:\\users\\meesalamryeswanthkum\\anaconda3\\lib\\site-packages (from langchain) (2.8.2)\n",
      "Requirement already satisfied: requests<3,>=2 in c:\\users\\meesalamryeswanthkum\\anaconda3\\lib\\site-packages (from langchain) (2.32.3)\n",
      "Requirement already satisfied: tenacity<9.0.0,>=8.1.0 in c:\\users\\meesalamryeswanthkum\\anaconda3\\lib\\site-packages (from langchain) (8.2.3)\n",
      "Requirement already satisfied: aiohappyeyeballs>=2.3.0 in c:\\users\\meesalamryeswanthkum\\anaconda3\\lib\\site-packages (from aiohttp<4.0.0,>=3.8.3->langchain) (2.4.0)\n",
      "Requirement already satisfied: aiosignal>=1.1.2 in c:\\users\\meesalamryeswanthkum\\anaconda3\\lib\\site-packages (from aiohttp<4.0.0,>=3.8.3->langchain) (1.2.0)\n",
      "Requirement already satisfied: attrs>=17.3.0 in c:\\users\\meesalamryeswanthkum\\anaconda3\\lib\\site-packages (from aiohttp<4.0.0,>=3.8.3->langchain) (23.1.0)\n",
      "Requirement already satisfied: frozenlist>=1.1.1 in c:\\users\\meesalamryeswanthkum\\anaconda3\\lib\\site-packages (from aiohttp<4.0.0,>=3.8.3->langchain) (1.4.0)\n",
      "Requirement already satisfied: multidict<7.0,>=4.5 in c:\\users\\meesalamryeswanthkum\\anaconda3\\lib\\site-packages (from aiohttp<4.0.0,>=3.8.3->langchain) (6.0.4)\n",
      "Requirement already satisfied: yarl<2.0,>=1.0 in c:\\users\\meesalamryeswanthkum\\anaconda3\\lib\\site-packages (from aiohttp<4.0.0,>=3.8.3->langchain) (1.11.0)\n",
      "Requirement already satisfied: marshmallow<4.0.0,>=3.18.0 in c:\\users\\meesalamryeswanthkum\\anaconda3\\lib\\site-packages (from dataclasses-json<0.7,>=0.5.7->langchain) (3.26.1)\n",
      "Requirement already satisfied: typing-inspect<1,>=0.4.0 in c:\\users\\meesalamryeswanthkum\\anaconda3\\lib\\site-packages (from dataclasses-json<0.7,>=0.5.7->langchain) (0.9.0)\n",
      "Requirement already satisfied: jsonpatch<2.0,>=1.33 in c:\\users\\meesalamryeswanthkum\\anaconda3\\lib\\site-packages (from langchain-core<0.2.0,>=0.1.52->langchain) (1.33)\n",
      "Requirement already satisfied: packaging<24.0,>=23.2 in c:\\users\\meesalamryeswanthkum\\anaconda3\\lib\\site-packages (from langchain-core<0.2.0,>=0.1.52->langchain) (23.2)\n",
      "Requirement already satisfied: httpx<1,>=0.23.0 in c:\\users\\meesalamryeswanthkum\\anaconda3\\lib\\site-packages (from langsmith<0.2.0,>=0.1.17->langchain) (0.27.0)\n",
      "Requirement already satisfied: orjson<4.0.0,>=3.9.14 in c:\\users\\meesalamryeswanthkum\\anaconda3\\lib\\site-packages (from langsmith<0.2.0,>=0.1.17->langchain) (3.10.16)\n",
      "Requirement already satisfied: requests-toolbelt<2.0.0,>=1.0.0 in c:\\users\\meesalamryeswanthkum\\anaconda3\\lib\\site-packages (from langsmith<0.2.0,>=0.1.17->langchain) (1.0.0)\n",
      "Requirement already satisfied: annotated-types>=0.4.0 in c:\\users\\meesalamryeswanthkum\\anaconda3\\lib\\site-packages (from pydantic<3,>=1->langchain) (0.6.0)\n",
      "Requirement already satisfied: pydantic-core==2.20.1 in c:\\users\\meesalamryeswanthkum\\anaconda3\\lib\\site-packages (from pydantic<3,>=1->langchain) (2.20.1)\n",
      "Requirement already satisfied: typing-extensions>=4.6.1 in c:\\users\\meesalamryeswanthkum\\anaconda3\\lib\\site-packages (from pydantic<3,>=1->langchain) (4.11.0)\n",
      "Requirement already satisfied: charset-normalizer<4,>=2 in c:\\users\\meesalamryeswanthkum\\anaconda3\\lib\\site-packages (from requests<3,>=2->langchain) (3.3.2)\n",
      "Requirement already satisfied: idna<4,>=2.5 in c:\\users\\meesalamryeswanthkum\\anaconda3\\lib\\site-packages (from requests<3,>=2->langchain) (3.7)\n",
      "Requirement already satisfied: urllib3<3,>=1.21.1 in c:\\users\\meesalamryeswanthkum\\anaconda3\\lib\\site-packages (from requests<3,>=2->langchain) (2.2.3)\n",
      "Requirement already satisfied: certifi>=2017.4.17 in c:\\users\\meesalamryeswanthkum\\anaconda3\\lib\\site-packages (from requests<3,>=2->langchain) (2024.8.30)\n",
      "Requirement already satisfied: greenlet!=0.4.17 in c:\\users\\meesalamryeswanthkum\\anaconda3\\lib\\site-packages (from SQLAlchemy<3,>=1.4->langchain) (3.0.1)\n",
      "Requirement already satisfied: anyio in c:\\users\\meesalamryeswanthkum\\anaconda3\\lib\\site-packages (from httpx<1,>=0.23.0->langsmith<0.2.0,>=0.1.17->langchain) (4.2.0)\n",
      "Requirement already satisfied: httpcore==1.* in c:\\users\\meesalamryeswanthkum\\anaconda3\\lib\\site-packages (from httpx<1,>=0.23.0->langsmith<0.2.0,>=0.1.17->langchain) (1.0.2)\n",
      "Requirement already satisfied: sniffio in c:\\users\\meesalamryeswanthkum\\anaconda3\\lib\\site-packages (from httpx<1,>=0.23.0->langsmith<0.2.0,>=0.1.17->langchain) (1.3.0)\n",
      "Requirement already satisfied: h11<0.15,>=0.13 in c:\\users\\meesalamryeswanthkum\\anaconda3\\lib\\site-packages (from httpcore==1.*->httpx<1,>=0.23.0->langsmith<0.2.0,>=0.1.17->langchain) (0.14.0)\n",
      "Requirement already satisfied: jsonpointer>=1.9 in c:\\users\\meesalamryeswanthkum\\anaconda3\\lib\\site-packages (from jsonpatch<2.0,>=1.33->langchain-core<0.2.0,>=0.1.52->langchain) (2.1)\n",
      "Requirement already satisfied: mypy-extensions>=0.3.0 in c:\\users\\meesalamryeswanthkum\\anaconda3\\lib\\site-packages (from typing-inspect<1,>=0.4.0->dataclasses-json<0.7,>=0.5.7->langchain) (1.0.0)\n"
     ]
    }
   ],
   "source": [
    "!pip install langchain"
   ]
  },
  {
   "cell_type": "code",
   "execution_count": null,
   "id": "01dd881f",
   "metadata": {},
   "outputs": [],
   "source": [
    "from langchain_community.chat_models import ChatOllama\n",
    "llm = ChatOllama(model='llama3.1')\n",
    "prompt = '''\n",
    "create a marketing pitch for a chocolate brand with vagon chocolate with 2% of protein and a base for which the shelf life is 3 months.\n",
    "the name of the product is .\n",
    "{input}\n",
    "Template:\n",
    "Title: <title>\n",
    "\n",
    "'''"
   ]
  },
  {
   "cell_type": "code",
   "execution_count": 15,
   "id": "69137d0b",
   "metadata": {},
   "outputs": [],
   "source": [
    "from langchain_core.prompts import ChatPromptTemplate\n",
    "from langchain_core.output_parsers import StrOutputParser\n",
    "parser = StrOutputParser()\n",
    "temp = ChatPromptTemplate.from_template(prompt)\n",
    "chain = temp | llm | parser"
   ]
  },
  {
   "cell_type": "code",
   "execution_count": 16,
   "id": "acd7dd78",
   "metadata": {},
   "outputs": [],
   "source": [
    "response = chain.invoke({'input':'Vasechocks'})"
   ]
  },
  {
   "cell_type": "code",
   "execution_count": 6,
   "id": "5a263177",
   "metadata": {},
   "outputs": [
    {
     "data": {
      "text/plain": [
       "ChatPromptTemplate(input_variables=['input'], messages=[HumanMessagePromptTemplate(prompt=PromptTemplate(input_variables=['input'], template='\\ncreate a marketing pitch for a chocolate brand with vagon chocolate with 2% of protein and a base for which the shelf life is 3 months.\\nthe name of the product is .\\n{input}\\n'))])"
      ]
     },
     "execution_count": 6,
     "metadata": {},
     "output_type": "execute_result"
    }
   ],
   "source": [
    "temp"
   ]
  },
  {
   "cell_type": "code",
   "execution_count": 17,
   "id": "e24b73f0",
   "metadata": {},
   "outputs": [
    {
     "ename": "AttributeError",
     "evalue": "'str' object has no attribute 'content'",
     "output_type": "error",
     "traceback": [
      "\u001b[1;31m---------------------------------------------------------------------------\u001b[0m",
      "\u001b[1;31mAttributeError\u001b[0m                            Traceback (most recent call last)",
      "Cell \u001b[1;32mIn[17], line 1\u001b[0m\n\u001b[1;32m----> 1\u001b[0m response\u001b[38;5;241m.\u001b[39mcontent\n",
      "\u001b[1;31mAttributeError\u001b[0m: 'str' object has no attribute 'content'"
     ]
    }
   ],
   "source": [
    "response.content"
   ]
  },
  {
   "cell_type": "code",
   "execution_count": 19,
   "id": "e58fbfe3",
   "metadata": {},
   "outputs": [
    {
     "data": {
      "text/markdown": [
       "Here's a potential marketing pitch for Vasechocks:\n",
       "\n",
       "**Introducing Vasechocks: The Chocolate that Nourishes Your Body and Satisfies Your Taste Buds**\n",
       "\n",
       "**Key Benefits:**\n",
       "\n",
       "* **Protein-Enriched Chocolate**: Our unique formula packs 2% protein into every delicious bite, making us a game-changer for health-conscious chocolate lovers.\n",
       "* **Longer Shelf Life**: With a base that lasts up to 3 months, you can enjoy Vasechocks without worrying about spoilage or waste.\n",
       "\n",
       "**Unique Selling Proposition (USP):**\n",
       "\n",
       "\"Indulge in the best of both worlds with Vasechocks - rich, velvety chocolate and a boost of protein to fuel your active lifestyle. Our innovative formula ensures that every piece is not only delicious but also nutritious.\"\n",
       "\n",
       "**Target Audience:**\n",
       "\n",
       "* Fitness enthusiasts\n",
       "* Health-conscious individuals\n",
       "* Busy professionals seeking a quick and satisfying snack\n",
       "* Chocolate lovers looking for a guilt-free treat\n",
       "\n",
       "**Marketing Strategies:**\n",
       "\n",
       "* Social Media Campaigns (Instagram, Facebook, Twitter)\n",
       "* Influencer Partnerships with health and fitness influencers\n",
       "* Online Advertising (Google Ads, Sponsored Content)\n",
       "* In-Store Promotions and Displays\n",
       "* Limited-Time Offers and Discounts\n",
       "\n",
       "**Product Positioning:**\n",
       "\n",
       "* Premium Chocolate with a Nutritional Twist\n",
       "* Perfect Snack for On-The-Go Lifestyles\n",
       "* Delicious and Convenient, with a Healthy Edge\n",
       "\n",
       "This is just a starting point. Let me know if you'd like to modify or expand on any of these points!"
      ],
      "text/plain": [
       "<IPython.core.display.Markdown object>"
      ]
     },
     "metadata": {},
     "output_type": "display_data"
    }
   ],
   "source": [
    "from IPython.display import display, Markdown\n",
    "display(Markdown(response))"
   ]
  },
  {
   "cell_type": "code",
   "execution_count": null,
   "id": "595da2f2",
   "metadata": {},
   "outputs": [],
   "source": [
    "# from langchain_core.messages import HumanMessage,SystemMessage,AIMessage\n",
    "# template = ChatPromptTemplate.from_messages(\n",
    "#     SystemMessage(content='you are a marketing expert and provide a marketing pitch in a creative way and humorous way'),\n",
    "#     HumanMessage(content=prompt)\n",
    "# )"
   ]
  },
  {
   "cell_type": "code",
   "execution_count": 18,
   "id": "6a25223f",
   "metadata": {},
   "outputs": [
    {
     "data": {
      "text/plain": [
       "'Here\\'s a potential marketing pitch for Vasechocks:\\n\\n**Introducing Vasechocks: The Chocolate that Nourishes Your Body and Satisfies Your Taste Buds**\\n\\n**Key Benefits:**\\n\\n* **Protein-Enriched Chocolate**: Our unique formula packs 2% protein into every delicious bite, making us a game-changer for health-conscious chocolate lovers.\\n* **Longer Shelf Life**: With a base that lasts up to 3 months, you can enjoy Vasechocks without worrying about spoilage or waste.\\n\\n**Unique Selling Proposition (USP):**\\n\\n\"Indulge in the best of both worlds with Vasechocks - rich, velvety chocolate and a boost of protein to fuel your active lifestyle. Our innovative formula ensures that every piece is not only delicious but also nutritious.\"\\n\\n**Target Audience:**\\n\\n* Fitness enthusiasts\\n* Health-conscious individuals\\n* Busy professionals seeking a quick and satisfying snack\\n* Chocolate lovers looking for a guilt-free treat\\n\\n**Marketing Strategies:**\\n\\n* Social Media Campaigns (Instagram, Facebook, Twitter)\\n* Influencer Partnerships with health and fitness influencers\\n* Online Advertising (Google Ads, Sponsored Content)\\n* In-Store Promotions and Displays\\n* Limited-Time Offers and Discounts\\n\\n**Product Positioning:**\\n\\n* Premium Chocolate with a Nutritional Twist\\n* Perfect Snack for On-The-Go Lifestyles\\n* Delicious and Convenient, with a Healthy Edge\\n\\nThis is just a starting point. Let me know if you\\'d like to modify or expand on any of these points!'"
      ]
     },
     "execution_count": 18,
     "metadata": {},
     "output_type": "execute_result"
    }
   ],
   "source": [
    "response"
   ]
  }
 ],
 "metadata": {
  "kernelspec": {
   "display_name": "base",
   "language": "python",
   "name": "python3"
  },
  "language_info": {
   "codemirror_mode": {
    "name": "ipython",
    "version": 3
   },
   "file_extension": ".py",
   "mimetype": "text/x-python",
   "name": "python",
   "nbconvert_exporter": "python",
   "pygments_lexer": "ipython3",
   "version": "3.12.7"
  }
 },
 "nbformat": 4,
 "nbformat_minor": 5
}
