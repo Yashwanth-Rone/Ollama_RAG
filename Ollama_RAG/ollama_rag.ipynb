{
 "cells": [
  {
   "cell_type": "code",
   "execution_count": 2,
   "metadata": {},
   "outputs": [
    {
     "name": "stdout",
     "output_type": "stream",
     "text": [
      "Requirement already satisfied: langchain in c:\\users\\meesalamryeswanthkum\\anaconda3\\lib\\site-packages (0.1.20)\n",
      "Requirement already satisfied: langchain_community in c:\\users\\meesalamryeswanthkum\\anaconda3\\lib\\site-packages (0.0.38)\n",
      "Collecting pypdf\n",
      "  Using cached pypdf-5.4.0-py3-none-any.whl.metadata (7.3 kB)\n",
      "Requirement already satisfied: PyYAML>=5.3 in c:\\users\\meesalamryeswanthkum\\anaconda3\\lib\\site-packages (from langchain) (6.0.1)\n",
      "Requirement already satisfied: SQLAlchemy<3,>=1.4 in c:\\users\\meesalamryeswanthkum\\anaconda3\\lib\\site-packages (from langchain) (2.0.34)\n",
      "Requirement already satisfied: aiohttp<4.0.0,>=3.8.3 in c:\\users\\meesalamryeswanthkum\\anaconda3\\lib\\site-packages (from langchain) (3.10.5)\n",
      "Requirement already satisfied: dataclasses-json<0.7,>=0.5.7 in c:\\users\\meesalamryeswanthkum\\anaconda3\\lib\\site-packages (from langchain) (0.6.7)\n",
      "Requirement already satisfied: langchain-core<0.2.0,>=0.1.52 in c:\\users\\meesalamryeswanthkum\\anaconda3\\lib\\site-packages (from langchain) (0.1.53)\n",
      "Requirement already satisfied: langchain-text-splitters<0.1,>=0.0.1 in c:\\users\\meesalamryeswanthkum\\anaconda3\\lib\\site-packages (from langchain) (0.0.2)\n",
      "Requirement already satisfied: langsmith<0.2.0,>=0.1.17 in c:\\users\\meesalamryeswanthkum\\anaconda3\\lib\\site-packages (from langchain) (0.1.147)\n",
      "Requirement already satisfied: numpy<2,>=1 in c:\\users\\meesalamryeswanthkum\\anaconda3\\lib\\site-packages (from langchain) (1.26.4)\n",
      "Requirement already satisfied: pydantic<3,>=1 in c:\\users\\meesalamryeswanthkum\\anaconda3\\lib\\site-packages (from langchain) (2.8.2)\n",
      "Requirement already satisfied: requests<3,>=2 in c:\\users\\meesalamryeswanthkum\\anaconda3\\lib\\site-packages (from langchain) (2.32.3)\n",
      "Requirement already satisfied: tenacity<9.0.0,>=8.1.0 in c:\\users\\meesalamryeswanthkum\\anaconda3\\lib\\site-packages (from langchain) (8.2.3)\n",
      "Requirement already satisfied: aiohappyeyeballs>=2.3.0 in c:\\users\\meesalamryeswanthkum\\anaconda3\\lib\\site-packages (from aiohttp<4.0.0,>=3.8.3->langchain) (2.4.0)\n",
      "Requirement already satisfied: aiosignal>=1.1.2 in c:\\users\\meesalamryeswanthkum\\anaconda3\\lib\\site-packages (from aiohttp<4.0.0,>=3.8.3->langchain) (1.2.0)\n",
      "Requirement already satisfied: attrs>=17.3.0 in c:\\users\\meesalamryeswanthkum\\anaconda3\\lib\\site-packages (from aiohttp<4.0.0,>=3.8.3->langchain) (23.1.0)\n",
      "Requirement already satisfied: frozenlist>=1.1.1 in c:\\users\\meesalamryeswanthkum\\anaconda3\\lib\\site-packages (from aiohttp<4.0.0,>=3.8.3->langchain) (1.4.0)\n",
      "Requirement already satisfied: multidict<7.0,>=4.5 in c:\\users\\meesalamryeswanthkum\\anaconda3\\lib\\site-packages (from aiohttp<4.0.0,>=3.8.3->langchain) (6.0.4)\n",
      "Requirement already satisfied: yarl<2.0,>=1.0 in c:\\users\\meesalamryeswanthkum\\anaconda3\\lib\\site-packages (from aiohttp<4.0.0,>=3.8.3->langchain) (1.11.0)\n",
      "Requirement already satisfied: marshmallow<4.0.0,>=3.18.0 in c:\\users\\meesalamryeswanthkum\\anaconda3\\lib\\site-packages (from dataclasses-json<0.7,>=0.5.7->langchain) (3.26.1)\n",
      "Requirement already satisfied: typing-inspect<1,>=0.4.0 in c:\\users\\meesalamryeswanthkum\\anaconda3\\lib\\site-packages (from dataclasses-json<0.7,>=0.5.7->langchain) (0.9.0)\n",
      "Requirement already satisfied: jsonpatch<2.0,>=1.33 in c:\\users\\meesalamryeswanthkum\\anaconda3\\lib\\site-packages (from langchain-core<0.2.0,>=0.1.52->langchain) (1.33)\n",
      "Requirement already satisfied: packaging<24.0,>=23.2 in c:\\users\\meesalamryeswanthkum\\anaconda3\\lib\\site-packages (from langchain-core<0.2.0,>=0.1.52->langchain) (23.2)\n",
      "Requirement already satisfied: httpx<1,>=0.23.0 in c:\\users\\meesalamryeswanthkum\\anaconda3\\lib\\site-packages (from langsmith<0.2.0,>=0.1.17->langchain) (0.27.0)\n",
      "Requirement already satisfied: orjson<4.0.0,>=3.9.14 in c:\\users\\meesalamryeswanthkum\\anaconda3\\lib\\site-packages (from langsmith<0.2.0,>=0.1.17->langchain) (3.10.16)\n",
      "Requirement already satisfied: requests-toolbelt<2.0.0,>=1.0.0 in c:\\users\\meesalamryeswanthkum\\anaconda3\\lib\\site-packages (from langsmith<0.2.0,>=0.1.17->langchain) (1.0.0)\n",
      "Requirement already satisfied: annotated-types>=0.4.0 in c:\\users\\meesalamryeswanthkum\\anaconda3\\lib\\site-packages (from pydantic<3,>=1->langchain) (0.6.0)\n",
      "Requirement already satisfied: pydantic-core==2.20.1 in c:\\users\\meesalamryeswanthkum\\anaconda3\\lib\\site-packages (from pydantic<3,>=1->langchain) (2.20.1)\n",
      "Requirement already satisfied: typing-extensions>=4.6.1 in c:\\users\\meesalamryeswanthkum\\anaconda3\\lib\\site-packages (from pydantic<3,>=1->langchain) (4.11.0)\n",
      "Requirement already satisfied: charset-normalizer<4,>=2 in c:\\users\\meesalamryeswanthkum\\anaconda3\\lib\\site-packages (from requests<3,>=2->langchain) (3.3.2)\n",
      "Requirement already satisfied: idna<4,>=2.5 in c:\\users\\meesalamryeswanthkum\\anaconda3\\lib\\site-packages (from requests<3,>=2->langchain) (3.7)\n",
      "Requirement already satisfied: urllib3<3,>=1.21.1 in c:\\users\\meesalamryeswanthkum\\anaconda3\\lib\\site-packages (from requests<3,>=2->langchain) (2.2.3)\n",
      "Requirement already satisfied: certifi>=2017.4.17 in c:\\users\\meesalamryeswanthkum\\anaconda3\\lib\\site-packages (from requests<3,>=2->langchain) (2024.8.30)\n",
      "Requirement already satisfied: greenlet!=0.4.17 in c:\\users\\meesalamryeswanthkum\\anaconda3\\lib\\site-packages (from SQLAlchemy<3,>=1.4->langchain) (3.0.1)\n",
      "Requirement already satisfied: anyio in c:\\users\\meesalamryeswanthkum\\anaconda3\\lib\\site-packages (from httpx<1,>=0.23.0->langsmith<0.2.0,>=0.1.17->langchain) (4.2.0)\n",
      "Requirement already satisfied: httpcore==1.* in c:\\users\\meesalamryeswanthkum\\anaconda3\\lib\\site-packages (from httpx<1,>=0.23.0->langsmith<0.2.0,>=0.1.17->langchain) (1.0.2)\n",
      "Requirement already satisfied: sniffio in c:\\users\\meesalamryeswanthkum\\anaconda3\\lib\\site-packages (from httpx<1,>=0.23.0->langsmith<0.2.0,>=0.1.17->langchain) (1.3.0)\n",
      "Requirement already satisfied: h11<0.15,>=0.13 in c:\\users\\meesalamryeswanthkum\\anaconda3\\lib\\site-packages (from httpcore==1.*->httpx<1,>=0.23.0->langsmith<0.2.0,>=0.1.17->langchain) (0.14.0)\n",
      "Requirement already satisfied: jsonpointer>=1.9 in c:\\users\\meesalamryeswanthkum\\anaconda3\\lib\\site-packages (from jsonpatch<2.0,>=1.33->langchain-core<0.2.0,>=0.1.52->langchain) (2.1)\n",
      "Requirement already satisfied: mypy-extensions>=0.3.0 in c:\\users\\meesalamryeswanthkum\\anaconda3\\lib\\site-packages (from typing-inspect<1,>=0.4.0->dataclasses-json<0.7,>=0.5.7->langchain) (1.0.0)\n",
      "Using cached pypdf-5.4.0-py3-none-any.whl (302 kB)\n",
      "Installing collected packages: pypdf\n",
      "Successfully installed pypdf-5.4.0\n"
     ]
    }
   ],
   "source": [
    "!pip install langchain langchain_community pypdf"
   ]
  },
  {
   "cell_type": "code",
   "execution_count": 5,
   "metadata": {},
   "outputs": [
    {
     "data": {
      "text/plain": [
       "Document(metadata={'producer': 'pdfTeX-1.40.25', 'creator': 'LaTeX with hyperref', 'creationdate': '2024-04-10T21:11:43+00:00', 'author': '', 'keywords': '', 'moddate': '2024-04-10T21:11:43+00:00', 'ptex.fullbanner': 'This is pdfTeX, Version 3.141592653-2.6-1.40.25 (TeX Live 2023) kpathsea version 6.3.5', 'subject': '', 'title': '', 'trapped': '/False', 'source': './attention_is_all_you_need.pdf', 'total_pages': 15, 'page': 0, 'page_label': '1'}, page_content='Provided proper attribution is provided, Google hereby grants permission to\\nreproduce the tables and figures in this paper solely for use in journalistic or\\nscholarly works.\\nAttention Is All You Need\\nAshish Vaswani∗\\nGoogle Brain\\navaswani@google.com\\nNoam Shazeer∗\\nGoogle Brain\\nnoam@google.com\\nNiki Parmar∗\\nGoogle Research\\nnikip@google.com\\nJakob Uszkoreit∗\\nGoogle Research\\nusz@google.com\\nLlion Jones∗\\nGoogle Research\\nllion@google.com\\nAidan N. Gomez∗ †\\nUniversity of Toronto\\naidan@cs.toronto.edu\\nŁukasz Kaiser∗\\nGoogle Brain\\nlukaszkaiser@google.com\\nIllia Polosukhin∗ ‡\\nillia.polosukhin@gmail.com\\nAbstract\\nThe dominant sequence transduction models are based on complex recurrent or\\nconvolutional neural networks that include an encoder and a decoder. The best\\nperforming models also connect the encoder and decoder through an attention\\nmechanism. We propose a new simple network architecture, the Transformer,\\nbased solely on attention mechanisms, dispensing with recurrence and convolutions\\nentirely. Experiments on two machine translation tasks show these models to\\nbe superior in quality while being more parallelizable and requiring significantly\\nless time to train. Our model achieves 28.4 BLEU on the WMT 2014 English-\\nto-German translation task, improving over the existing best results, including\\nensembles, by over 2 BLEU. On the WMT 2014 English-to-French translation task,\\nour model establishes a new single-model state-of-the-art BLEU score of 41.8 after\\ntraining for 3.5 days on eight GPUs, a small fraction of the training costs of the\\nbest models from the literature. We show that the Transformer generalizes well to\\nother tasks by applying it successfully to English constituency parsing both with\\nlarge and limited training data.\\n∗Equal contribution. Listing order is random. Jakob proposed replacing RNNs with self-attention and started\\nthe effort to evaluate this idea. Ashish, with Illia, designed and implemented the first Transformer models and\\nhas been crucially involved in every aspect of this work. Noam proposed scaled dot-product attention, multi-head\\nattention and the parameter-free position representation and became the other person involved in nearly every\\ndetail. Niki designed, implemented, tuned and evaluated countless model variants in our original codebase and\\ntensor2tensor. Llion also experimented with novel model variants, was responsible for our initial codebase, and\\nefficient inference and visualizations. Lukasz and Aidan spent countless long days designing various parts of and\\nimplementing tensor2tensor, replacing our earlier codebase, greatly improving results and massively accelerating\\nour research.\\n†Work performed while at Google Brain.\\n‡Work performed while at Google Research.\\n31st Conference on Neural Information Processing Systems (NIPS 2017), Long Beach, CA, USA.\\narXiv:1706.03762v7  [cs.CL]  2 Aug 2023')"
      ]
     },
     "execution_count": 5,
     "metadata": {},
     "output_type": "execute_result"
    }
   ],
   "source": [
    "from langchain_community.document_loaders import PyPDFLoader\n",
    "path = './attention_is_all_you_need.pdf'\n",
    "loader = PyPDFLoader(path)\n",
    "docs = loader.load()\n",
    "docs[0]"
   ]
  },
  {
   "cell_type": "code",
   "execution_count": 6,
   "metadata": {},
   "outputs": [
    {
     "data": {
      "text/plain": [
       "16"
      ]
     },
     "execution_count": 6,
     "metadata": {},
     "output_type": "execute_result"
    }
   ],
   "source": [
    "from langchain_text_splitters import RecursiveCharacterTextSplitter\n",
    "splitter = RecursiveCharacterTextSplitter()\n",
    "chunks = splitter.split_documents(docs)\n",
    "len(chunks)"
   ]
  },
  {
   "cell_type": "code",
   "execution_count": 7,
   "metadata": {},
   "outputs": [
    {
     "name": "stdout",
     "output_type": "stream",
     "text": [
      "Requirement already satisfied: langchain_huggingface in c:\\users\\meesalamryeswanthkum\\anaconda3\\envs\\ragenv\\lib\\site-packages (0.1.2)\n",
      "Requirement already satisfied: langchain_faiss in c:\\users\\meesalamryeswanthkum\\anaconda3\\envs\\ragenv\\lib\\site-packages (0.1.1)\n",
      "Requirement already satisfied: faiss-cpu in c:\\users\\meesalamryeswanthkum\\anaconda3\\envs\\ragenv\\lib\\site-packages (1.10.0)\n",
      "Requirement already satisfied: huggingface-hub>=0.23.0 in c:\\users\\meesalamryeswanthkum\\anaconda3\\envs\\ragenv\\lib\\site-packages (from langchain_huggingface) (0.29.3)\n",
      "Requirement already satisfied: langchain-core<0.4.0,>=0.3.15 in c:\\users\\meesalamryeswanthkum\\anaconda3\\envs\\ragenv\\lib\\site-packages (from langchain_huggingface) (0.3.49)\n",
      "Requirement already satisfied: sentence-transformers>=2.6.0 in c:\\users\\meesalamryeswanthkum\\anaconda3\\envs\\ragenv\\lib\\site-packages (from langchain_huggingface) (4.0.1)\n",
      "Requirement already satisfied: tokenizers>=0.19.1 in c:\\users\\meesalamryeswanthkum\\anaconda3\\envs\\ragenv\\lib\\site-packages (from langchain_huggingface) (0.21.1)\n",
      "Requirement already satisfied: transformers>=4.39.0 in c:\\users\\meesalamryeswanthkum\\anaconda3\\envs\\ragenv\\lib\\site-packages (from langchain_huggingface) (4.50.3)\n",
      "Requirement already satisfied: numpy<3.0,>=1.25.0 in c:\\users\\meesalamryeswanthkum\\anaconda3\\envs\\ragenv\\lib\\site-packages (from faiss-cpu) (2.2.4)\n",
      "Requirement already satisfied: packaging in c:\\users\\meesalamryeswanthkum\\anaconda3\\envs\\ragenv\\lib\\site-packages (from faiss-cpu) (24.2)\n",
      "Requirement already satisfied: filelock in c:\\users\\meesalamryeswanthkum\\anaconda3\\envs\\ragenv\\lib\\site-packages (from huggingface-hub>=0.23.0->langchain_huggingface) (3.18.0)\n",
      "Requirement already satisfied: fsspec>=2023.5.0 in c:\\users\\meesalamryeswanthkum\\anaconda3\\envs\\ragenv\\lib\\site-packages (from huggingface-hub>=0.23.0->langchain_huggingface) (2025.3.0)\n",
      "Requirement already satisfied: pyyaml>=5.1 in c:\\users\\meesalamryeswanthkum\\anaconda3\\envs\\ragenv\\lib\\site-packages (from huggingface-hub>=0.23.0->langchain_huggingface) (6.0.2)\n",
      "Requirement already satisfied: requests in c:\\users\\meesalamryeswanthkum\\anaconda3\\envs\\ragenv\\lib\\site-packages (from huggingface-hub>=0.23.0->langchain_huggingface) (2.32.3)\n",
      "Requirement already satisfied: tqdm>=4.42.1 in c:\\users\\meesalamryeswanthkum\\anaconda3\\envs\\ragenv\\lib\\site-packages (from huggingface-hub>=0.23.0->langchain_huggingface) (4.67.1)\n",
      "Requirement already satisfied: typing-extensions>=3.7.4.3 in c:\\users\\meesalamryeswanthkum\\anaconda3\\envs\\ragenv\\lib\\site-packages (from huggingface-hub>=0.23.0->langchain_huggingface) (4.13.0)\n",
      "Requirement already satisfied: langsmith<0.4,>=0.1.125 in c:\\users\\meesalamryeswanthkum\\anaconda3\\envs\\ragenv\\lib\\site-packages (from langchain-core<0.4.0,>=0.3.15->langchain_huggingface) (0.3.19)\n",
      "Requirement already satisfied: tenacity!=8.4.0,<10.0.0,>=8.1.0 in c:\\users\\meesalamryeswanthkum\\anaconda3\\envs\\ragenv\\lib\\site-packages (from langchain-core<0.4.0,>=0.3.15->langchain_huggingface) (9.0.0)\n",
      "Requirement already satisfied: jsonpatch<2.0,>=1.33 in c:\\users\\meesalamryeswanthkum\\anaconda3\\envs\\ragenv\\lib\\site-packages (from langchain-core<0.4.0,>=0.3.15->langchain_huggingface) (1.33)\n",
      "Requirement already satisfied: pydantic<3.0.0,>=2.5.2 in c:\\users\\meesalamryeswanthkum\\anaconda3\\envs\\ragenv\\lib\\site-packages (from langchain-core<0.4.0,>=0.3.15->langchain_huggingface) (2.11.1)\n",
      "Requirement already satisfied: torch>=1.11.0 in c:\\users\\meesalamryeswanthkum\\anaconda3\\envs\\ragenv\\lib\\site-packages (from sentence-transformers>=2.6.0->langchain_huggingface) (2.6.0)\n",
      "Requirement already satisfied: scikit-learn in c:\\users\\meesalamryeswanthkum\\anaconda3\\envs\\ragenv\\lib\\site-packages (from sentence-transformers>=2.6.0->langchain_huggingface) (1.6.1)\n",
      "Requirement already satisfied: scipy in c:\\users\\meesalamryeswanthkum\\anaconda3\\envs\\ragenv\\lib\\site-packages (from sentence-transformers>=2.6.0->langchain_huggingface) (1.15.2)\n",
      "Requirement already satisfied: Pillow in c:\\users\\meesalamryeswanthkum\\anaconda3\\envs\\ragenv\\lib\\site-packages (from sentence-transformers>=2.6.0->langchain_huggingface) (11.1.0)\n",
      "Requirement already satisfied: regex!=2019.12.17 in c:\\users\\meesalamryeswanthkum\\anaconda3\\envs\\ragenv\\lib\\site-packages (from transformers>=4.39.0->langchain_huggingface) (2024.11.6)\n",
      "Requirement already satisfied: safetensors>=0.4.3 in c:\\users\\meesalamryeswanthkum\\anaconda3\\envs\\ragenv\\lib\\site-packages (from transformers>=4.39.0->langchain_huggingface) (0.5.3)\n",
      "Requirement already satisfied: jsonpointer>=1.9 in c:\\users\\meesalamryeswanthkum\\anaconda3\\envs\\ragenv\\lib\\site-packages (from jsonpatch<2.0,>=1.33->langchain-core<0.4.0,>=0.3.15->langchain_huggingface) (3.0.0)\n",
      "Requirement already satisfied: httpx<1,>=0.23.0 in c:\\users\\meesalamryeswanthkum\\anaconda3\\envs\\ragenv\\lib\\site-packages (from langsmith<0.4,>=0.1.125->langchain-core<0.4.0,>=0.3.15->langchain_huggingface) (0.28.1)\n",
      "Requirement already satisfied: orjson<4.0.0,>=3.9.14 in c:\\users\\meesalamryeswanthkum\\anaconda3\\envs\\ragenv\\lib\\site-packages (from langsmith<0.4,>=0.1.125->langchain-core<0.4.0,>=0.3.15->langchain_huggingface) (3.10.16)\n",
      "Requirement already satisfied: requests-toolbelt<2.0.0,>=1.0.0 in c:\\users\\meesalamryeswanthkum\\anaconda3\\envs\\ragenv\\lib\\site-packages (from langsmith<0.4,>=0.1.125->langchain-core<0.4.0,>=0.3.15->langchain_huggingface) (1.0.0)\n",
      "Requirement already satisfied: zstandard<0.24.0,>=0.23.0 in c:\\users\\meesalamryeswanthkum\\anaconda3\\envs\\ragenv\\lib\\site-packages (from langsmith<0.4,>=0.1.125->langchain-core<0.4.0,>=0.3.15->langchain_huggingface) (0.23.0)\n",
      "Requirement already satisfied: annotated-types>=0.6.0 in c:\\users\\meesalamryeswanthkum\\anaconda3\\envs\\ragenv\\lib\\site-packages (from pydantic<3.0.0,>=2.5.2->langchain-core<0.4.0,>=0.3.15->langchain_huggingface) (0.7.0)\n",
      "Requirement already satisfied: pydantic-core==2.33.0 in c:\\users\\meesalamryeswanthkum\\anaconda3\\envs\\ragenv\\lib\\site-packages (from pydantic<3.0.0,>=2.5.2->langchain-core<0.4.0,>=0.3.15->langchain_huggingface) (2.33.0)\n",
      "Requirement already satisfied: typing-inspection>=0.4.0 in c:\\users\\meesalamryeswanthkum\\anaconda3\\envs\\ragenv\\lib\\site-packages (from pydantic<3.0.0,>=2.5.2->langchain-core<0.4.0,>=0.3.15->langchain_huggingface) (0.4.0)\n",
      "Requirement already satisfied: charset-normalizer<4,>=2 in c:\\users\\meesalamryeswanthkum\\anaconda3\\envs\\ragenv\\lib\\site-packages (from requests->huggingface-hub>=0.23.0->langchain_huggingface) (3.4.1)\n",
      "Requirement already satisfied: idna<4,>=2.5 in c:\\users\\meesalamryeswanthkum\\anaconda3\\envs\\ragenv\\lib\\site-packages (from requests->huggingface-hub>=0.23.0->langchain_huggingface) (3.10)\n",
      "Requirement already satisfied: urllib3<3,>=1.21.1 in c:\\users\\meesalamryeswanthkum\\anaconda3\\envs\\ragenv\\lib\\site-packages (from requests->huggingface-hub>=0.23.0->langchain_huggingface) (2.3.0)\n",
      "Requirement already satisfied: certifi>=2017.4.17 in c:\\users\\meesalamryeswanthkum\\anaconda3\\envs\\ragenv\\lib\\site-packages (from requests->huggingface-hub>=0.23.0->langchain_huggingface) (2025.1.31)\n",
      "Requirement already satisfied: networkx in c:\\users\\meesalamryeswanthkum\\anaconda3\\envs\\ragenv\\lib\\site-packages (from torch>=1.11.0->sentence-transformers>=2.6.0->langchain_huggingface) (3.4.2)\n",
      "Requirement already satisfied: jinja2 in c:\\users\\meesalamryeswanthkum\\anaconda3\\envs\\ragenv\\lib\\site-packages (from torch>=1.11.0->sentence-transformers>=2.6.0->langchain_huggingface) (3.1.6)\n",
      "Requirement already satisfied: sympy==1.13.1 in c:\\users\\meesalamryeswanthkum\\anaconda3\\envs\\ragenv\\lib\\site-packages (from torch>=1.11.0->sentence-transformers>=2.6.0->langchain_huggingface) (1.13.1)\n",
      "Requirement already satisfied: mpmath<1.4,>=1.1.0 in c:\\users\\meesalamryeswanthkum\\anaconda3\\envs\\ragenv\\lib\\site-packages (from sympy==1.13.1->torch>=1.11.0->sentence-transformers>=2.6.0->langchain_huggingface) (1.3.0)\n",
      "Requirement already satisfied: colorama in c:\\users\\meesalamryeswanthkum\\anaconda3\\envs\\ragenv\\lib\\site-packages (from tqdm>=4.42.1->huggingface-hub>=0.23.0->langchain_huggingface) (0.4.6)\n",
      "Requirement already satisfied: joblib>=1.2.0 in c:\\users\\meesalamryeswanthkum\\anaconda3\\envs\\ragenv\\lib\\site-packages (from scikit-learn->sentence-transformers>=2.6.0->langchain_huggingface) (1.4.2)\n",
      "Requirement already satisfied: threadpoolctl>=3.1.0 in c:\\users\\meesalamryeswanthkum\\anaconda3\\envs\\ragenv\\lib\\site-packages (from scikit-learn->sentence-transformers>=2.6.0->langchain_huggingface) (3.6.0)\n",
      "Requirement already satisfied: anyio in c:\\users\\meesalamryeswanthkum\\anaconda3\\envs\\ragenv\\lib\\site-packages (from httpx<1,>=0.23.0->langsmith<0.4,>=0.1.125->langchain-core<0.4.0,>=0.3.15->langchain_huggingface) (4.9.0)\n",
      "Requirement already satisfied: httpcore==1.* in c:\\users\\meesalamryeswanthkum\\anaconda3\\envs\\ragenv\\lib\\site-packages (from httpx<1,>=0.23.0->langsmith<0.4,>=0.1.125->langchain-core<0.4.0,>=0.3.15->langchain_huggingface) (1.0.7)\n",
      "Requirement already satisfied: h11<0.15,>=0.13 in c:\\users\\meesalamryeswanthkum\\anaconda3\\envs\\ragenv\\lib\\site-packages (from httpcore==1.*->httpx<1,>=0.23.0->langsmith<0.4,>=0.1.125->langchain-core<0.4.0,>=0.3.15->langchain_huggingface) (0.14.0)\n",
      "Requirement already satisfied: MarkupSafe>=2.0 in c:\\users\\meesalamryeswanthkum\\anaconda3\\envs\\ragenv\\lib\\site-packages (from jinja2->torch>=1.11.0->sentence-transformers>=2.6.0->langchain_huggingface) (3.0.2)\n",
      "Requirement already satisfied: sniffio>=1.1 in c:\\users\\meesalamryeswanthkum\\anaconda3\\envs\\ragenv\\lib\\site-packages (from anyio->httpx<1,>=0.23.0->langsmith<0.4,>=0.1.125->langchain-core<0.4.0,>=0.3.15->langchain_huggingface) (1.3.1)\n"
     ]
    }
   ],
   "source": [
    "!pip install langchain_huggingface langchain_faiss faiss-cpu"
   ]
  },
  {
   "cell_type": "code",
   "execution_count": 8,
   "metadata": {},
   "outputs": [
    {
     "name": "stdout",
     "output_type": "stream",
     "text": [
      "Requirement already satisfied: langchain-huggingface in c:\\users\\meesalamryeswanthkum\\anaconda3\\envs\\ragenv\\lib\\site-packages (0.1.2)\n",
      "Requirement already satisfied: huggingface-hub>=0.23.0 in c:\\users\\meesalamryeswanthkum\\anaconda3\\envs\\ragenv\\lib\\site-packages (from langchain-huggingface) (0.29.3)\n",
      "Requirement already satisfied: langchain-core<0.4.0,>=0.3.15 in c:\\users\\meesalamryeswanthkum\\anaconda3\\envs\\ragenv\\lib\\site-packages (from langchain-huggingface) (0.3.49)\n",
      "Requirement already satisfied: sentence-transformers>=2.6.0 in c:\\users\\meesalamryeswanthkum\\anaconda3\\envs\\ragenv\\lib\\site-packages (from langchain-huggingface) (4.0.1)\n",
      "Requirement already satisfied: tokenizers>=0.19.1 in c:\\users\\meesalamryeswanthkum\\anaconda3\\envs\\ragenv\\lib\\site-packages (from langchain-huggingface) (0.21.1)\n",
      "Requirement already satisfied: transformers>=4.39.0 in c:\\users\\meesalamryeswanthkum\\anaconda3\\envs\\ragenv\\lib\\site-packages (from langchain-huggingface) (4.50.3)\n",
      "Requirement already satisfied: filelock in c:\\users\\meesalamryeswanthkum\\anaconda3\\envs\\ragenv\\lib\\site-packages (from huggingface-hub>=0.23.0->langchain-huggingface) (3.18.0)\n",
      "Requirement already satisfied: fsspec>=2023.5.0 in c:\\users\\meesalamryeswanthkum\\anaconda3\\envs\\ragenv\\lib\\site-packages (from huggingface-hub>=0.23.0->langchain-huggingface) (2025.3.0)\n",
      "Requirement already satisfied: packaging>=20.9 in c:\\users\\meesalamryeswanthkum\\anaconda3\\envs\\ragenv\\lib\\site-packages (from huggingface-hub>=0.23.0->langchain-huggingface) (24.2)\n",
      "Requirement already satisfied: pyyaml>=5.1 in c:\\users\\meesalamryeswanthkum\\anaconda3\\envs\\ragenv\\lib\\site-packages (from huggingface-hub>=0.23.0->langchain-huggingface) (6.0.2)\n",
      "Requirement already satisfied: requests in c:\\users\\meesalamryeswanthkum\\anaconda3\\envs\\ragenv\\lib\\site-packages (from huggingface-hub>=0.23.0->langchain-huggingface) (2.32.3)\n",
      "Requirement already satisfied: tqdm>=4.42.1 in c:\\users\\meesalamryeswanthkum\\anaconda3\\envs\\ragenv\\lib\\site-packages (from huggingface-hub>=0.23.0->langchain-huggingface) (4.67.1)\n",
      "Requirement already satisfied: typing-extensions>=3.7.4.3 in c:\\users\\meesalamryeswanthkum\\anaconda3\\envs\\ragenv\\lib\\site-packages (from huggingface-hub>=0.23.0->langchain-huggingface) (4.13.0)\n",
      "Requirement already satisfied: langsmith<0.4,>=0.1.125 in c:\\users\\meesalamryeswanthkum\\anaconda3\\envs\\ragenv\\lib\\site-packages (from langchain-core<0.4.0,>=0.3.15->langchain-huggingface) (0.3.19)\n",
      "Requirement already satisfied: tenacity!=8.4.0,<10.0.0,>=8.1.0 in c:\\users\\meesalamryeswanthkum\\anaconda3\\envs\\ragenv\\lib\\site-packages (from langchain-core<0.4.0,>=0.3.15->langchain-huggingface) (9.0.0)\n",
      "Requirement already satisfied: jsonpatch<2.0,>=1.33 in c:\\users\\meesalamryeswanthkum\\anaconda3\\envs\\ragenv\\lib\\site-packages (from langchain-core<0.4.0,>=0.3.15->langchain-huggingface) (1.33)\n",
      "Requirement already satisfied: pydantic<3.0.0,>=2.5.2 in c:\\users\\meesalamryeswanthkum\\anaconda3\\envs\\ragenv\\lib\\site-packages (from langchain-core<0.4.0,>=0.3.15->langchain-huggingface) (2.11.1)\n",
      "Requirement already satisfied: torch>=1.11.0 in c:\\users\\meesalamryeswanthkum\\anaconda3\\envs\\ragenv\\lib\\site-packages (from sentence-transformers>=2.6.0->langchain-huggingface) (2.6.0)\n",
      "Requirement already satisfied: scikit-learn in c:\\users\\meesalamryeswanthkum\\anaconda3\\envs\\ragenv\\lib\\site-packages (from sentence-transformers>=2.6.0->langchain-huggingface) (1.6.1)\n",
      "Requirement already satisfied: scipy in c:\\users\\meesalamryeswanthkum\\anaconda3\\envs\\ragenv\\lib\\site-packages (from sentence-transformers>=2.6.0->langchain-huggingface) (1.15.2)\n",
      "Requirement already satisfied: Pillow in c:\\users\\meesalamryeswanthkum\\anaconda3\\envs\\ragenv\\lib\\site-packages (from sentence-transformers>=2.6.0->langchain-huggingface) (11.1.0)\n",
      "Requirement already satisfied: numpy>=1.17 in c:\\users\\meesalamryeswanthkum\\anaconda3\\envs\\ragenv\\lib\\site-packages (from transformers>=4.39.0->langchain-huggingface) (2.2.4)\n",
      "Requirement already satisfied: regex!=2019.12.17 in c:\\users\\meesalamryeswanthkum\\anaconda3\\envs\\ragenv\\lib\\site-packages (from transformers>=4.39.0->langchain-huggingface) (2024.11.6)\n",
      "Requirement already satisfied: safetensors>=0.4.3 in c:\\users\\meesalamryeswanthkum\\anaconda3\\envs\\ragenv\\lib\\site-packages (from transformers>=4.39.0->langchain-huggingface) (0.5.3)\n",
      "Requirement already satisfied: jsonpointer>=1.9 in c:\\users\\meesalamryeswanthkum\\anaconda3\\envs\\ragenv\\lib\\site-packages (from jsonpatch<2.0,>=1.33->langchain-core<0.4.0,>=0.3.15->langchain-huggingface) (3.0.0)\n",
      "Requirement already satisfied: httpx<1,>=0.23.0 in c:\\users\\meesalamryeswanthkum\\anaconda3\\envs\\ragenv\\lib\\site-packages (from langsmith<0.4,>=0.1.125->langchain-core<0.4.0,>=0.3.15->langchain-huggingface) (0.28.1)\n",
      "Requirement already satisfied: orjson<4.0.0,>=3.9.14 in c:\\users\\meesalamryeswanthkum\\anaconda3\\envs\\ragenv\\lib\\site-packages (from langsmith<0.4,>=0.1.125->langchain-core<0.4.0,>=0.3.15->langchain-huggingface) (3.10.16)\n",
      "Requirement already satisfied: requests-toolbelt<2.0.0,>=1.0.0 in c:\\users\\meesalamryeswanthkum\\anaconda3\\envs\\ragenv\\lib\\site-packages (from langsmith<0.4,>=0.1.125->langchain-core<0.4.0,>=0.3.15->langchain-huggingface) (1.0.0)\n",
      "Requirement already satisfied: zstandard<0.24.0,>=0.23.0 in c:\\users\\meesalamryeswanthkum\\anaconda3\\envs\\ragenv\\lib\\site-packages (from langsmith<0.4,>=0.1.125->langchain-core<0.4.0,>=0.3.15->langchain-huggingface) (0.23.0)\n",
      "Requirement already satisfied: annotated-types>=0.6.0 in c:\\users\\meesalamryeswanthkum\\anaconda3\\envs\\ragenv\\lib\\site-packages (from pydantic<3.0.0,>=2.5.2->langchain-core<0.4.0,>=0.3.15->langchain-huggingface) (0.7.0)\n",
      "Requirement already satisfied: pydantic-core==2.33.0 in c:\\users\\meesalamryeswanthkum\\anaconda3\\envs\\ragenv\\lib\\site-packages (from pydantic<3.0.0,>=2.5.2->langchain-core<0.4.0,>=0.3.15->langchain-huggingface) (2.33.0)\n",
      "Requirement already satisfied: typing-inspection>=0.4.0 in c:\\users\\meesalamryeswanthkum\\anaconda3\\envs\\ragenv\\lib\\site-packages (from pydantic<3.0.0,>=2.5.2->langchain-core<0.4.0,>=0.3.15->langchain-huggingface) (0.4.0)\n",
      "Requirement already satisfied: charset-normalizer<4,>=2 in c:\\users\\meesalamryeswanthkum\\anaconda3\\envs\\ragenv\\lib\\site-packages (from requests->huggingface-hub>=0.23.0->langchain-huggingface) (3.4.1)\n",
      "Requirement already satisfied: idna<4,>=2.5 in c:\\users\\meesalamryeswanthkum\\anaconda3\\envs\\ragenv\\lib\\site-packages (from requests->huggingface-hub>=0.23.0->langchain-huggingface) (3.10)\n",
      "Requirement already satisfied: urllib3<3,>=1.21.1 in c:\\users\\meesalamryeswanthkum\\anaconda3\\envs\\ragenv\\lib\\site-packages (from requests->huggingface-hub>=0.23.0->langchain-huggingface) (2.3.0)\n",
      "Requirement already satisfied: certifi>=2017.4.17 in c:\\users\\meesalamryeswanthkum\\anaconda3\\envs\\ragenv\\lib\\site-packages (from requests->huggingface-hub>=0.23.0->langchain-huggingface) (2025.1.31)\n",
      "Requirement already satisfied: networkx in c:\\users\\meesalamryeswanthkum\\anaconda3\\envs\\ragenv\\lib\\site-packages (from torch>=1.11.0->sentence-transformers>=2.6.0->langchain-huggingface) (3.4.2)\n",
      "Requirement already satisfied: jinja2 in c:\\users\\meesalamryeswanthkum\\anaconda3\\envs\\ragenv\\lib\\site-packages (from torch>=1.11.0->sentence-transformers>=2.6.0->langchain-huggingface) (3.1.6)\n",
      "Requirement already satisfied: sympy==1.13.1 in c:\\users\\meesalamryeswanthkum\\anaconda3\\envs\\ragenv\\lib\\site-packages (from torch>=1.11.0->sentence-transformers>=2.6.0->langchain-huggingface) (1.13.1)\n",
      "Requirement already satisfied: mpmath<1.4,>=1.1.0 in c:\\users\\meesalamryeswanthkum\\anaconda3\\envs\\ragenv\\lib\\site-packages (from sympy==1.13.1->torch>=1.11.0->sentence-transformers>=2.6.0->langchain-huggingface) (1.3.0)\n",
      "Requirement already satisfied: colorama in c:\\users\\meesalamryeswanthkum\\anaconda3\\envs\\ragenv\\lib\\site-packages (from tqdm>=4.42.1->huggingface-hub>=0.23.0->langchain-huggingface) (0.4.6)\n",
      "Requirement already satisfied: joblib>=1.2.0 in c:\\users\\meesalamryeswanthkum\\anaconda3\\envs\\ragenv\\lib\\site-packages (from scikit-learn->sentence-transformers>=2.6.0->langchain-huggingface) (1.4.2)\n",
      "Requirement already satisfied: threadpoolctl>=3.1.0 in c:\\users\\meesalamryeswanthkum\\anaconda3\\envs\\ragenv\\lib\\site-packages (from scikit-learn->sentence-transformers>=2.6.0->langchain-huggingface) (3.6.0)\n",
      "Requirement already satisfied: anyio in c:\\users\\meesalamryeswanthkum\\anaconda3\\envs\\ragenv\\lib\\site-packages (from httpx<1,>=0.23.0->langsmith<0.4,>=0.1.125->langchain-core<0.4.0,>=0.3.15->langchain-huggingface) (4.9.0)\n",
      "Requirement already satisfied: httpcore==1.* in c:\\users\\meesalamryeswanthkum\\anaconda3\\envs\\ragenv\\lib\\site-packages (from httpx<1,>=0.23.0->langsmith<0.4,>=0.1.125->langchain-core<0.4.0,>=0.3.15->langchain-huggingface) (1.0.7)\n",
      "Requirement already satisfied: h11<0.15,>=0.13 in c:\\users\\meesalamryeswanthkum\\anaconda3\\envs\\ragenv\\lib\\site-packages (from httpcore==1.*->httpx<1,>=0.23.0->langsmith<0.4,>=0.1.125->langchain-core<0.4.0,>=0.3.15->langchain-huggingface) (0.14.0)\n",
      "Requirement already satisfied: MarkupSafe>=2.0 in c:\\users\\meesalamryeswanthkum\\anaconda3\\envs\\ragenv\\lib\\site-packages (from jinja2->torch>=1.11.0->sentence-transformers>=2.6.0->langchain-huggingface) (3.0.2)\n",
      "Requirement already satisfied: sniffio>=1.1 in c:\\users\\meesalamryeswanthkum\\anaconda3\\envs\\ragenv\\lib\\site-packages (from anyio->httpx<1,>=0.23.0->langsmith<0.4,>=0.1.125->langchain-core<0.4.0,>=0.3.15->langchain-huggingface) (1.3.1)\n"
     ]
    }
   ],
   "source": [
    "!pip install langchain-huggingface"
   ]
  },
  {
   "cell_type": "code",
   "execution_count": 9,
   "metadata": {},
   "outputs": [
    {
     "name": "stderr",
     "output_type": "stream",
     "text": [
      "c:\\Users\\MeesalaMrYeswanthKum\\anaconda3\\envs\\ragenv\\Lib\\site-packages\\tqdm\\auto.py:21: TqdmWarning: IProgress not found. Please update jupyter and ipywidgets. See https://ipywidgets.readthedocs.io/en/stable/user_install.html\n",
      "  from .autonotebook import tqdm as notebook_tqdm\n"
     ]
    }
   ],
   "source": [
    "from langchain_huggingface import HuggingFaceEmbeddings\n",
    "embeddings = HuggingFaceEmbeddings(model_name='sentence-transformers/all-MiniLM-L6-v2')"
   ]
  },
  {
   "cell_type": "code",
   "execution_count": 14,
   "metadata": {},
   "outputs": [],
   "source": [
    "from langchain_community.vectorstores import FAISS\n",
    "db = FAISS.from_documents(chunks,embeddings)"
   ]
  },
  {
   "cell_type": "code",
   "execution_count": 15,
   "metadata": {},
   "outputs": [],
   "source": [
    "retriever = db.as_retriever()"
   ]
  },
  {
   "cell_type": "code",
   "execution_count": 3,
   "metadata": {},
   "outputs": [],
   "source": [
    "from langchain.chains import create_retrieval_chain, create_history_aware_retriever\n",
    "from langchain.chains.combine_documents import create_stuff_documents_chain\n",
    "from langchain_community.chat_models import ChatOllama\n",
    "from langchain.prompts import ChatPromptTemplate"
   ]
  },
  {
   "cell_type": "code",
   "execution_count": 5,
   "metadata": {},
   "outputs": [],
   "source": [
    "prompt = \"\"\"\n",
    "you are a useful assistant. provide answers to the questions only from the provided context. If the user question is not in context, say that you don't know the answer.\n",
    "If you find the answer, provide page number, title for the answer.\n",
    "<context>\n",
    "{context}\n",
    "</context>\n",
    "<question>\n",
    "{input}\n",
    "</question>\n",
    "\n",
    " \"\"\"\n",
    "\n",
    "qa_prompt = ChatPromptTemplate.from_template(prompt)"
   ]
  },
  {
   "cell_type": "code",
   "execution_count": 6,
   "metadata": {},
   "outputs": [],
   "source": [
    "llm = ChatOllama(model='mistral')"
   ]
  },
  {
   "cell_type": "code",
   "execution_count": 21,
   "metadata": {},
   "outputs": [],
   "source": [
    "stuff_chain = create_stuff_documents_chain(llm, qa_prompt)\n",
    "retrieval_chain = create_retrieval_chain(retriever, stuff_chain)"
   ]
  },
  {
   "cell_type": "code",
   "execution_count": 22,
   "metadata": {},
   "outputs": [],
   "source": [
    "answer = retrieval_chain.invoke({\"input\":\"what is positional encoding?\"})"
   ]
  },
  {
   "cell_type": "code",
   "execution_count": 24,
   "metadata": {},
   "outputs": [
    {
     "data": {
      "text/plain": [
       "\" Positional encoding is a method used to provide information about the position of a word or token within a sequence to a neural network model, as it doesn't inherently understand the order or positioning of words. In this paper, the authors use sinusoidal positional encoding, which encodes the absolute position of each word in the sequence by adding sine and cosine functions with different frequencies to the input vectors. This way, the model can learn to use the information about the relative positions of the words to better understand their meanings and context. The authors also mention that they tested using learned positional embeddings instead of sinusoids and saw nearly identical results.\""
      ]
     },
     "execution_count": 24,
     "metadata": {},
     "output_type": "execute_result"
    }
   ],
   "source": [
    "answer['answer']"
   ]
  },
  {
   "cell_type": "code",
   "execution_count": 11,
   "metadata": {},
   "outputs": [],
   "source": [
    "prompt = '''\n",
    "create a marketing pitch for a chocolate brand with vagon chocolate with 2% of protein and a base for which the shelf life is 3 months.\n",
    "the name of the product is Vasechocs.\n",
    "{input} \n",
    "'''"
   ]
  },
  {
   "cell_type": "code",
   "execution_count": 12,
   "metadata": {},
   "outputs": [],
   "source": [
    "temp = ChatPromptTemplate.from_template(prompt)\n",
    "chain = temp | llm"
   ]
  },
  {
   "cell_type": "code",
   "execution_count": 13,
   "metadata": {},
   "outputs": [],
   "source": [
    "answer = chain.invoke({'input':'write a marketing pitch for Vasechocs'})"
   ]
  },
  {
   "cell_type": "code",
   "execution_count": 16,
   "metadata": {},
   "outputs": [
    {
     "data": {
      "text/plain": [
       "AIMessage(content=\" Title: Introducing Vasechocs - The Perfect Blend of Taste, Nutrition, and Quality!\\n\\nDear Valued Customers,\\n\\nWe are thrilled to present to you our latest culinary masterpiece, Vasechocs! A symphony of flavors that harmoniously combines the richness of chocolate with a surprising 2% protein content. This isn't just another chocolate bar; it's a delicious snack designed for those who appreciate taste and health in equal measure.\\n\\nVasechocs is more than just a name; it's a testament to our commitment to quality, innovation, and customer satisfaction. Our chocolates are made with the finest ingredients sourced from around the globe, ensuring a rich, creamy texture and an unforgettable taste experience.\\n\\nBut we didn't stop there. We understand that health is just as important as taste. That's why each Vasechocs bar contains 2% protein, providing you with a quick, convenient, and tasty source of essential nutrients.\\n\\nAnd here's the cherry on top: Each Vasechocs bar has a shelf life of 3 months! This means you can stock up and enjoy our delicious chocolates anytime, anywhere, without worrying about expiry dates.\\n\\nVasechocs is more than a chocolate brand; it's a lifestyle choice for those who appreciate the finer things in life. So why wait? Treat yourself to the exquisite taste of Vasechocs today and indulge in a guilt-free chocolate experience like no other!\\n\\nStay tuned for more exciting flavors and offers coming soon. Remember, with Vasechocs, every moment is a moment to savor!\\n\\nBest Regards,\\n[Your Company Name]\", response_metadata={'model': 'mistral', 'created_at': '2025-04-17T04:33:03.7788361Z', 'message': {'role': 'assistant', 'content': ''}, 'done_reason': 'stop', 'done': True, 'total_duration': 143990527400, 'load_duration': 34228796500, 'prompt_eval_count': 63, 'prompt_eval_duration': 10650486200, 'eval_count': 395, 'eval_duration': 99093753300}, id='run-6b583e9f-5add-42bd-89a4-1ee86930c678-0')"
      ]
     },
     "execution_count": 16,
     "metadata": {},
     "output_type": "execute_result"
    }
   ],
   "source": [
    "answer"
   ]
  },
  {
   "cell_type": "code",
   "execution_count": 18,
   "metadata": {},
   "outputs": [
    {
     "data": {
      "text/markdown": [
       " Title: Introducing Vasechocs - The Perfect Blend of Taste, Nutrition, and Quality!\n",
       "\n",
       "Dear Valued Customers,\n",
       "\n",
       "We are thrilled to present to you our latest culinary masterpiece, Vasechocs! A symphony of flavors that harmoniously combines the richness of chocolate with a surprising 2% protein content. This isn't just another chocolate bar; it's a delicious snack designed for those who appreciate taste and health in equal measure.\n",
       "\n",
       "Vasechocs is more than just a name; it's a testament to our commitment to quality, innovation, and customer satisfaction. Our chocolates are made with the finest ingredients sourced from around the globe, ensuring a rich, creamy texture and an unforgettable taste experience.\n",
       "\n",
       "But we didn't stop there. We understand that health is just as important as taste. That's why each Vasechocs bar contains 2% protein, providing you with a quick, convenient, and tasty source of essential nutrients.\n",
       "\n",
       "And here's the cherry on top: Each Vasechocs bar has a shelf life of 3 months! This means you can stock up and enjoy our delicious chocolates anytime, anywhere, without worrying about expiry dates.\n",
       "\n",
       "Vasechocs is more than a chocolate brand; it's a lifestyle choice for those who appreciate the finer things in life. So why wait? Treat yourself to the exquisite taste of Vasechocs today and indulge in a guilt-free chocolate experience like no other!\n",
       "\n",
       "Stay tuned for more exciting flavors and offers coming soon. Remember, with Vasechocs, every moment is a moment to savor!\n",
       "\n",
       "Best Regards,\n",
       "[Your Company Name]"
      ],
      "text/plain": [
       "<IPython.core.display.Markdown object>"
      ]
     },
     "metadata": {},
     "output_type": "display_data"
    }
   ],
   "source": [
    "from IPython.display import display, Markdown\n",
    "display(Markdown(answer.content))"
   ]
  }
 ],
 "metadata": {
  "kernelspec": {
   "display_name": "base",
   "language": "python",
   "name": "python3"
  },
  "language_info": {
   "codemirror_mode": {
    "name": "ipython",
    "version": 3
   },
   "file_extension": ".py",
   "mimetype": "text/x-python",
   "name": "python",
   "nbconvert_exporter": "python",
   "pygments_lexer": "ipython3",
   "version": "3.12.7"
  }
 },
 "nbformat": 4,
 "nbformat_minor": 2
}
